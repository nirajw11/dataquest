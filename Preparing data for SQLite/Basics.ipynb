{
 "cells": [
  {
   "cell_type": "code",
   "execution_count": 1,
   "metadata": {
    "collapsed": true
   },
   "outputs": [],
   "source": [
    "import pandas as pd"
   ]
  },
  {
   "cell_type": "code",
   "execution_count": 2,
   "metadata": {
    "collapsed": true
   },
   "outputs": [],
   "source": [
    "awards=pd.read_csv(\"academy_awards.csv\",encoding=\"ISO-8859-1\")"
   ]
  },
  {
   "cell_type": "code",
   "execution_count": 3,
   "metadata": {
    "collapsed": false
   },
   "outputs": [
    {
     "data": {
      "text/html": [
       "<div>\n",
       "<table border=\"1\" class=\"dataframe\">\n",
       "  <thead>\n",
       "    <tr style=\"text-align: right;\">\n",
       "      <th></th>\n",
       "      <th>Year</th>\n",
       "      <th>Category</th>\n",
       "      <th>Nominee</th>\n",
       "      <th>Additional Info</th>\n",
       "      <th>Won?</th>\n",
       "      <th>Unnamed: 5</th>\n",
       "      <th>Unnamed: 6</th>\n",
       "      <th>Unnamed: 7</th>\n",
       "      <th>Unnamed: 8</th>\n",
       "      <th>Unnamed: 9</th>\n",
       "      <th>Unnamed: 10</th>\n",
       "    </tr>\n",
       "  </thead>\n",
       "  <tbody>\n",
       "    <tr>\n",
       "      <th>0</th>\n",
       "      <td>2010 (83rd)</td>\n",
       "      <td>Actor -- Leading Role</td>\n",
       "      <td>Javier Bardem</td>\n",
       "      <td>Biutiful {'Uxbal'}</td>\n",
       "      <td>NO</td>\n",
       "      <td>NaN</td>\n",
       "      <td>NaN</td>\n",
       "      <td>NaN</td>\n",
       "      <td>NaN</td>\n",
       "      <td>NaN</td>\n",
       "      <td>NaN</td>\n",
       "    </tr>\n",
       "    <tr>\n",
       "      <th>1</th>\n",
       "      <td>2010 (83rd)</td>\n",
       "      <td>Actor -- Leading Role</td>\n",
       "      <td>Jeff Bridges</td>\n",
       "      <td>True Grit {'Rooster Cogburn'}</td>\n",
       "      <td>NO</td>\n",
       "      <td>NaN</td>\n",
       "      <td>NaN</td>\n",
       "      <td>NaN</td>\n",
       "      <td>NaN</td>\n",
       "      <td>NaN</td>\n",
       "      <td>NaN</td>\n",
       "    </tr>\n",
       "    <tr>\n",
       "      <th>2</th>\n",
       "      <td>2010 (83rd)</td>\n",
       "      <td>Actor -- Leading Role</td>\n",
       "      <td>Jesse Eisenberg</td>\n",
       "      <td>The Social Network {'Mark Zuckerberg'}</td>\n",
       "      <td>NO</td>\n",
       "      <td>NaN</td>\n",
       "      <td>NaN</td>\n",
       "      <td>NaN</td>\n",
       "      <td>NaN</td>\n",
       "      <td>NaN</td>\n",
       "      <td>NaN</td>\n",
       "    </tr>\n",
       "    <tr>\n",
       "      <th>3</th>\n",
       "      <td>2010 (83rd)</td>\n",
       "      <td>Actor -- Leading Role</td>\n",
       "      <td>Colin Firth</td>\n",
       "      <td>The King's Speech {'King George VI'}</td>\n",
       "      <td>YES</td>\n",
       "      <td>NaN</td>\n",
       "      <td>NaN</td>\n",
       "      <td>NaN</td>\n",
       "      <td>NaN</td>\n",
       "      <td>NaN</td>\n",
       "      <td>NaN</td>\n",
       "    </tr>\n",
       "    <tr>\n",
       "      <th>4</th>\n",
       "      <td>2010 (83rd)</td>\n",
       "      <td>Actor -- Leading Role</td>\n",
       "      <td>James Franco</td>\n",
       "      <td>127 Hours {'Aron Ralston'}</td>\n",
       "      <td>NO</td>\n",
       "      <td>NaN</td>\n",
       "      <td>NaN</td>\n",
       "      <td>NaN</td>\n",
       "      <td>NaN</td>\n",
       "      <td>NaN</td>\n",
       "      <td>NaN</td>\n",
       "    </tr>\n",
       "  </tbody>\n",
       "</table>\n",
       "</div>"
      ],
      "text/plain": [
       "          Year               Category          Nominee  \\\n",
       "0  2010 (83rd)  Actor -- Leading Role    Javier Bardem   \n",
       "1  2010 (83rd)  Actor -- Leading Role     Jeff Bridges   \n",
       "2  2010 (83rd)  Actor -- Leading Role  Jesse Eisenberg   \n",
       "3  2010 (83rd)  Actor -- Leading Role      Colin Firth   \n",
       "4  2010 (83rd)  Actor -- Leading Role     James Franco   \n",
       "\n",
       "                          Additional Info Won? Unnamed: 5 Unnamed: 6  \\\n",
       "0                      Biutiful {'Uxbal'}   NO        NaN        NaN   \n",
       "1           True Grit {'Rooster Cogburn'}   NO        NaN        NaN   \n",
       "2  The Social Network {'Mark Zuckerberg'}   NO        NaN        NaN   \n",
       "3    The King's Speech {'King George VI'}  YES        NaN        NaN   \n",
       "4              127 Hours {'Aron Ralston'}   NO        NaN        NaN   \n",
       "\n",
       "  Unnamed: 7 Unnamed: 8 Unnamed: 9 Unnamed: 10  \n",
       "0        NaN        NaN        NaN         NaN  \n",
       "1        NaN        NaN        NaN         NaN  \n",
       "2        NaN        NaN        NaN         NaN  \n",
       "3        NaN        NaN        NaN         NaN  \n",
       "4        NaN        NaN        NaN         NaN  "
      ]
     },
     "execution_count": 3,
     "metadata": {},
     "output_type": "execute_result"
    }
   ],
   "source": [
    "awards.head()"
   ]
  },
  {
   "cell_type": "code",
   "execution_count": 6,
   "metadata": {
    "collapsed": false
   },
   "outputs": [
    {
     "data": {
      "text/plain": [
       "Index(['Year', 'Category', 'Nominee', 'Additional Info', 'Won?', 'Unnamed: 5',\n",
       "       'Unnamed: 6', 'Unnamed: 7', 'Unnamed: 8', 'Unnamed: 9', 'Unnamed: 10'],\n",
       "      dtype='object')"
      ]
     },
     "execution_count": 6,
     "metadata": {},
     "output_type": "execute_result"
    }
   ],
   "source": [
    "awards.columns"
   ]
  },
  {
   "cell_type": "code",
   "execution_count": 10,
   "metadata": {
    "collapsed": false
   },
   "outputs": [
    {
     "name": "stdout",
     "output_type": "stream",
     "text": [
      "NaN                                                                                                             10126\n",
      "*                                                                                                                   7\n",
      " discoverer of stars                                                                                                1\n",
      " D.B. \"Don\" Keele and Mark E. Engebretson has resulted in the over 20-year dominance of constant-directivity        1\n",
      " resilience                                                                                                         1\n",
      " error-prone measurements on sets. [Digital Imaging Technology]\"                                                    1\n",
      "Name: Unnamed: 5, dtype: int64\n",
      "NaN                                                                 10125\n",
      "*                                                                       9\n",
      " sympathetic                                                            1\n",
      " direct radiator bass style cinema loudspeaker systems. [Sound]\"        1\n",
      " flexibility and water resistance                                       1\n",
      "Name: Unnamed: 6, dtype: int64\n",
      "NaN                                                   10134\n",
      " kindly                                                   1\n",
      " while requiring no dangerous solvents. [Systems]\"        1\n",
      "*                                                         1\n",
      "Name: Unnamed: 7, dtype: int64\n",
      "NaN                                               10135\n",
      " understanding comedy genius - Mack Sennett.\"\"        1\n",
      "*                                                     1\n",
      "Name: Unnamed: 8, dtype: int64\n",
      "NaN    10136\n",
      "*          1\n",
      "Name: Unnamed: 9, dtype: int64\n",
      "NaN    10136\n",
      "*          1\n",
      "Name: Unnamed: 10, dtype: int64\n"
     ]
    }
   ],
   "source": [
    "cols =['Unnamed: 5',\n",
    "       'Unnamed: 6', 'Unnamed: 7', 'Unnamed: 8', 'Unnamed: 9', 'Unnamed: 10']\n",
    "\n",
    "for col in cols:\n",
    "    print(awards[col].value_counts(dropna=False))"
   ]
  },
  {
   "cell_type": "code",
   "execution_count": 11,
   "metadata": {
    "collapsed": false
   },
   "outputs": [
    {
     "data": {
      "text/plain": [
       "Metro-Goldwyn-Mayer                                                                 60\n",
       "Walt Disney, Producer                                                               57\n",
       "Warner Bros.                                                                        42\n",
       "John Williams                                                                       37\n",
       "France                                                                              35\n",
       "Alfred Newman                                                                       34\n",
       "Italy                                                                               26\n",
       "Paramount                                                                           24\n",
       "Gordon Hollingshead, Producer                                                       22\n",
       "Edith Head                                                                          22\n",
       "20th Century-Fox                                                                    20\n",
       "RKO Radio                                                                           20\n",
       "Victor Young                                                                        19\n",
       "Spain                                                                               19\n",
       "Leon Shamroy                                                                        17\n",
       "Jerry Goldsmith                                                                     16\n",
       "Woody Allen                                                                         16\n",
       "Max Steiner                                                                         16\n",
       "Metro-Goldwyn-Mayer Studio Sound Department, Douglas Shearer, Sound Director        15\n",
       "Sweden                                                                              14\n",
       "Miklos Rozsa                                                                        14\n",
       "Alex North                                                                          14\n",
       "Columbia                                                                            13\n",
       "Columbia Studio Sound Department, John Livadary, Sound Director                     13\n",
       "Dimitri Tiomkin                                                                     13\n",
       "Pete Smith, Producer                                                                13\n",
       "Franz Waxman                                                                        12\n",
       "William Wyler                                                                       12\n",
       "Robert Surtees                                                                      12\n",
       "Jean Louis                                                                          12\n",
       "                                                                                    ..\n",
       "Photographic Effects by Lawrence Butler; Sound Effects by Jack Whitney               1\n",
       "Mehdi Norowzian, Steve Wax                                                           1\n",
       "Bullets over Broadway {'Olive Neal'}                                                 1\n",
       "Music by Andrew Lloyd Webber; Lyric by Tim Rice                                      1\n",
       "John Knoll, Hal Hickel, Charles Gibson and Terry Frazee                              1\n",
       "Jack Howells, Producer                                                               1\n",
       "Daniel Taradash                                                                      1\n",
       "Randy Thom and Dennis Leonard                                                        1\n",
       "Save the Tiger {'Phil Greene'}                                                       1\n",
       "Kay Nelson                                                                           1\n",
       "Klute {'Bree Daniel'}                                                                1\n",
       "East of Eden {'Cal Trask'}                                                           1\n",
       "The English Patient {'Katharine Clifton'}                                            1\n",
       "Takao Saito, Masaharu Ueda, Asakazu Nakai                                            1\n",
       "Faith Hubley and John Hubley, Producers                                              1\n",
       "The Godfather Part II {'Hyman Roth'}                                                 1\n",
       "The Mirror Has Two Faces {'Hannah Morgan'}                                           1\n",
       "Robert L. Wolfe, C. Timothy O'Meara                                                  1\n",
       "Geoffrey Scott and Oxley Hughan, Producers                                           1\n",
       "Viva Zapata! {'Eufemio Zapata'}                                                      1\n",
       "Music and Lyric by Kenny Loggins and Dean Pitchford                                  1\n",
       "Robert Swarthe, Producer                                                             1\n",
       "Lewis Lewyn, Producer                                                                1\n",
       "Christopher Boyes, David Parker, David Campbell and Lee Orloff                       1\n",
       "Grand National Studio Sound Department, A. E. Kaye, Sound Director                   1\n",
       "The Philadelphia Story {'Tracy Lord'}                                                1\n",
       "Art Direction: Alexander Golitzen, George C. Webb; Set Decoration: Jack D. Moore     1\n",
       "Uruguay                                                                              1\n",
       "Fredric Steinkamp, William Steinkamp                                                 1\n",
       "Bill McGaw, Producer                                                                 1\n",
       "Name: Additional Info, dtype: int64"
      ]
     },
     "execution_count": 11,
     "metadata": {},
     "output_type": "execute_result"
    }
   ],
   "source": [
    "awards['Additional Info'].value_counts()"
   ]
  },
  {
   "cell_type": "code",
   "execution_count": 13,
   "metadata": {
    "collapsed": false,
    "scrolled": true
   },
   "outputs": [
    {
     "data": {
      "text/plain": [
       "array(['2010 (83rd)', '2009 (82nd)', '2008 (81st)', '2007 (80th)',\n",
       "       '2006 (79th)', '2005 (78th)', '2004 (77th)', '2003 (76th)',\n",
       "       '2002 (75th)', '2001 (74th)', '2000 (73rd)', '1999 (72nd)',\n",
       "       '1998 (71st)', '1997 (70th)', '1996 (69th)', '1995 (68th)',\n",
       "       '1994 (67th)', '1993 (66th)', '1992 (65th)', '1991 (64th)',\n",
       "       '1990 (63rd)', '1989 (62nd)', '1988 (61st)', '1987 (60th)',\n",
       "       '1986 (59th)', '1985 (58th)', '1984 (57th)', '1983 (56th)',\n",
       "       '1982 (55th)', '1981 (54th)', '1980 (53rd)', '1979 (52nd)',\n",
       "       '1978 (51st)', '1977 (50th)', '1976 (49th)', '1975 (48th)',\n",
       "       '1974 (47th)', '1973 (46th)', '1972 (45th)', '1971 (44th)',\n",
       "       '1970 (43rd)', '1969 (42nd)', '1968 (41st)', '1967 (40th)',\n",
       "       '1966 (39th)', '1965 (38th)', '1964 (37th)', '1963 (36th)',\n",
       "       '1962 (35th)', '1961 (34th)', '1960 (33rd)', '1959 (32nd)',\n",
       "       '1958 (31st)', '1957 (30th)', '1956 (29th)', '1955 (28th)',\n",
       "       '1954 (27th)', '1953 (26th)', '1952 (25th)', '1951 (24th)',\n",
       "       '1950 (23rd)', '1949 (22nd)', '1948 (21st)', '1947 (20th)',\n",
       "       '1946 (19th)', '1945 (18th)', '1944 (17th)', '1943 (16th)',\n",
       "       '1942 (15th)', '1941 (14th)', '1940 (13th)', '1939 (12th)',\n",
       "       '1938 (11th)', '1937 (10th)', '1936 (9th)', '1935 (8th)',\n",
       "       '1934 (7th)', '1932/33 (6th)', '1931/32 (5th)', '1930/31 (4th)',\n",
       "       '1929/30 (3rd)', '1928/29 (2nd)', '1927/28 (1st)'], dtype=object)"
      ]
     },
     "execution_count": 13,
     "metadata": {},
     "output_type": "execute_result"
    }
   ],
   "source": [
    "awards['Year'].unique()"
   ]
  },
  {
   "cell_type": "code",
   "execution_count": 15,
   "metadata": {
    "collapsed": false
   },
   "outputs": [],
   "source": [
    "awards['Year']=awards['Year'].str[0:4]"
   ]
  },
  {
   "cell_type": "code",
   "execution_count": 17,
   "metadata": {
    "collapsed": false
   },
   "outputs": [],
   "source": [
    "awards['Year']=awards['Year'].astype(int)"
   ]
  },
  {
   "cell_type": "code",
   "execution_count": 18,
   "metadata": {
    "collapsed": true
   },
   "outputs": [],
   "source": [
    "later_than_2000=awards[awards['Year'] > 2000]"
   ]
  },
  {
   "cell_type": "code",
   "execution_count": 20,
   "metadata": {
    "collapsed": false
   },
   "outputs": [
    {
     "data": {
      "text/plain": [
       "array(['Actor -- Leading Role', 'Actor -- Supporting Role',\n",
       "       'Actress -- Leading Role', 'Actress -- Supporting Role',\n",
       "       'Animated Feature Film', 'Art Direction', 'Cinematography',\n",
       "       'Costume Design', 'Directing', 'Documentary (Feature)',\n",
       "       'Documentary (Short Subject)', 'Film Editing',\n",
       "       'Foreign Language Film', 'Makeup', 'Music (Scoring)',\n",
       "       'Music (Song)', 'Best Picture', 'Short Film (Animated)',\n",
       "       'Short Film (Live Action)', 'Sound', 'Sound Editing',\n",
       "       'Visual Effects', 'Writing', 'Honorary Award',\n",
       "       'Irving G. Thalberg Memorial Award',\n",
       "       'Scientific and Technical (Scientific and Engineering Award)',\n",
       "       'Scientific and Technical (Technical Achievement Award)',\n",
       "       'Scientific and Technical (Bonner Medal)',\n",
       "       'Jean Hersholt Humanitarian Award',\n",
       "       'Scientific and Technical (Gordon E. Sawyer Award)',\n",
       "       'Scientific and Technical (Academy Award of Merit)',\n",
       "       'Scientific and Technical (Special Awards)',\n",
       "       'Special Achievement Award', 'Special Effects (archaic category)',\n",
       "       'Acting (other)', 'Documentary (other)',\n",
       "       'Assistant Director (archaic category)',\n",
       "       'Dance Direction (archaic category)',\n",
       "       'Engineering Effects (archaic category)',\n",
       "       'Unique and Artistic Picture (archaic category)'], dtype=object)"
      ]
     },
     "execution_count": 20,
     "metadata": {},
     "output_type": "execute_result"
    }
   ],
   "source": [
    "awards['Category'].unique()"
   ]
  },
  {
   "cell_type": "code",
   "execution_count": 21,
   "metadata": {
    "collapsed": true
   },
   "outputs": [],
   "source": [
    "awards_categories=['Actor -- Leading Role', 'Actor -- Supporting Role',\n",
    "       'Actress -- Leading Role', 'Actress -- Supporting Role']\n"
   ]
  },
  {
   "cell_type": "code",
   "execution_count": 23,
   "metadata": {
    "collapsed": false
   },
   "outputs": [],
   "source": [
    "nominations=later_than_2000[later_than_2000['Category'].isin(awards_categories)]"
   ]
  },
  {
   "cell_type": "code",
   "execution_count": 25,
   "metadata": {
    "collapsed": false
   },
   "outputs": [
    {
     "name": "stderr",
     "output_type": "stream",
     "text": [
      "/dataquest/system/env/python3/lib/python3.4/site-packages/ipykernel/__main__.py:1: SettingWithCopyWarning: \n",
      "A value is trying to be set on a copy of a slice from a DataFrame.\n",
      "Try using .loc[row_indexer,col_indexer] = value instead\n",
      "\n",
      "See the caveats in the documentation: http://pandas.pydata.org/pandas-docs/stable/indexing.html#indexing-view-versus-copy\n",
      "  if __name__ == '__main__':\n"
     ]
    }
   ],
   "source": [
    "nominations['Won?']=nominations['Won?'].map({'NO':0,'YES':1}).astype(int)"
   ]
  },
  {
   "cell_type": "code",
   "execution_count": 26,
   "metadata": {
    "collapsed": false
   },
   "outputs": [
    {
     "name": "stderr",
     "output_type": "stream",
     "text": [
      "/dataquest/system/env/python3/lib/python3.4/site-packages/ipykernel/__main__.py:1: SettingWithCopyWarning: \n",
      "A value is trying to be set on a copy of a slice from a DataFrame.\n",
      "Try using .loc[row_indexer,col_indexer] = value instead\n",
      "\n",
      "See the caveats in the documentation: http://pandas.pydata.org/pandas-docs/stable/indexing.html#indexing-view-versus-copy\n",
      "  if __name__ == '__main__':\n"
     ]
    }
   ],
   "source": [
    "nominations['Won']=nominations['Won?']"
   ]
  },
  {
   "cell_type": "code",
   "execution_count": 28,
   "metadata": {
    "collapsed": false
   },
   "outputs": [
    {
     "data": {
      "text/plain": [
       "array([0, 1])"
      ]
     },
     "execution_count": 28,
     "metadata": {},
     "output_type": "execute_result"
    }
   ],
   "source": [
    "nominations['Won?'].unique()"
   ]
  },
  {
   "cell_type": "code",
   "execution_count": 31,
   "metadata": {
    "collapsed": false
   },
   "outputs": [
    {
     "data": {
      "text/plain": [
       "Index(['Year', 'Category', 'Nominee', 'Additional Info', 'Won?', 'Unnamed: 5',\n",
       "       'Unnamed: 6', 'Unnamed: 7', 'Unnamed: 8', 'Unnamed: 9', 'Unnamed: 10',\n",
       "       'Won'],\n",
       "      dtype='object')"
      ]
     },
     "execution_count": 31,
     "metadata": {},
     "output_type": "execute_result"
    }
   ],
   "source": [
    "nominations.columns"
   ]
  },
  {
   "cell_type": "code",
   "execution_count": 33,
   "metadata": {
    "collapsed": false
   },
   "outputs": [],
   "source": [
    "cols=['Won?', 'Unnamed: 5',\n",
    "       'Unnamed: 6', 'Unnamed: 7', 'Unnamed: 8', 'Unnamed: 9', 'Unnamed: 10']\n",
    "\n",
    "final_nominations=nominations.drop(cols,axis=1)"
   ]
  },
  {
   "cell_type": "code",
   "execution_count": 35,
   "metadata": {
    "collapsed": false
   },
   "outputs": [
    {
     "data": {
      "text/plain": [
       "Index(['Year', 'Category', 'Nominee', 'Additional Info', 'Won'], dtype='object')"
      ]
     },
     "execution_count": 35,
     "metadata": {},
     "output_type": "execute_result"
    }
   ],
   "source": [
    "final_nominations.columns"
   ]
  },
  {
   "cell_type": "code",
   "execution_count": 36,
   "metadata": {
    "collapsed": false
   },
   "outputs": [
    {
     "data": {
      "text/plain": [
       "No Country for Old Men {'Anton Chigurh'}            1\n",
       "Tropic Thunder {'Kirk Lazarus'}                     1\n",
       "Julie & Julia {'Julia Child'}                       1\n",
       "I Am Sam {'Sam Dawson'}                             1\n",
       "Winter's Bone {'Teardrop'}                          1\n",
       "The Wrestler {'Cassidy'}                            1\n",
       "Maria Full of Grace {'Maria'}                       1\n",
       "Brokeback Mountain {'Ennis Del Mar'}                1\n",
       "Up in the Air {'Ryan Bingham'}                      1\n",
       "Adaptation {'Charlie Kaufman & Donald Kaufman'}     1\n",
       "Gosford Park {'Constance, Countess of Trentham'}    1\n",
       "Ray {'Ray Charles'}                                 1\n",
       "The Hours {'Laura Brown'}                           1\n",
       "Adaptation {'Susan Orlean'}                         1\n",
       "Hotel Rwanda {'Paul Rusesabagina'}                  1\n",
       "Transamerica {'Bree'}                               1\n",
       "In America {'Sarah'}                                1\n",
       "The Pursuit of Happyness {'Chris Gardner'}          1\n",
       "The Cooler {'Shelly Kaplow'}                        1\n",
       "Cold Mountain {'Ruby Thewes'}                       1\n",
       "Invictus {'Nelson Mandela'}                         1\n",
       "The Fighter {'Dicky Eklund'}                        1\n",
       "Inglourious Basterds {'Col. Hans Landa'}            1\n",
       "Venus {'Maurice'}                                   1\n",
       "Closer {'Larry'}                                    1\n",
       "Whale Rider {'Paikea'}                              1\n",
       "Walk the Line {'John R. Cash'}                      1\n",
       "Revolutionary Road {'John Givings'}                 1\n",
       "The Aviator {'Katharine Hepburn'}                   1\n",
       "Sexy Beast {'Don Logan'}                            1\n",
       "                                                   ..\n",
       "Finding Neverland {'Sir James Matthew Barrie'}      1\n",
       "Dreamgirls {'Effie White'}                          1\n",
       "Collateral {'Max'}                                  1\n",
       "The Visitor {'Walter'}                              1\n",
       "In the Bedroom {'Natalie Strout'}                   1\n",
       "Michael Clayton {'Michael Clayton'}                 1\n",
       "Notes on a Scandal {'Barbara Covett'}               1\n",
       "American Gangster {'Mama Lucas'}                    1\n",
       "Blue Valentine {'Cindy'}                            1\n",
       "Million Dollar Baby {'Eddie Scrap-Iron Dupris'}     1\n",
       "Pride & Prejudice {'Elizabeth Bennet'}              1\n",
       "Nine {'Carla'}                                      1\n",
       "Atonement {'Briony Tallis, aged 13'}                1\n",
       "An Education {'Jenny'}                              1\n",
       "Crazy Heart {'Bad Blake'}                           1\n",
       "The Town {'James Coughlin'}                         1\n",
       "Chicago {'Amos Hart'}                               1\n",
       "Syriana {'Bob Barnes'}                              1\n",
       "Frida {'Frida Kahlo'}                               1\n",
       "Frozen River {'Ray Eddy'}                           1\n",
       "The Kids Are All Right {'Nic'}                      1\n",
       "Ali {'Muhammad Ali'}                                1\n",
       "Kinsey {'Clara McMillen'}                           1\n",
       "Vicky Cristina Barcelona {'Maria Elena'}            1\n",
       "The Departed {'Dignam'}                             1\n",
       "Iris {'John Bayley'}                                1\n",
       "The Social Network {'Mark Zuckerberg'}              1\n",
       "North Country {'Josey Aimes'}                       1\n",
       "Mystic River {'Celeste Boyle'}                      1\n",
       "Doubt {'Sister Aloysius Beauvier'}                  1\n",
       "Name: Additional Info, dtype: int64"
      ]
     },
     "execution_count": 36,
     "metadata": {},
     "output_type": "execute_result"
    }
   ],
   "source": [
    "final_nominations['Additional Info'].value_counts()"
   ]
  },
  {
   "cell_type": "code",
   "execution_count": 87,
   "metadata": {
    "collapsed": false
   },
   "outputs": [],
   "source": [
    "additional_info_one = final_nominations[\"Additional Info\"].str.rstrip(\"'}\")\n",
    "additional_info_two = additional_info_one.str.split(\" {'\")"
   ]
  },
  {
   "cell_type": "code",
   "execution_count": 88,
   "metadata": {
    "collapsed": false
   },
   "outputs": [],
   "source": [
    "movie_names = additional_info_two.str[0]\n",
    "characters = additional_info_two.str[1]"
   ]
  },
  {
   "cell_type": "code",
   "execution_count": 89,
   "metadata": {
    "collapsed": false
   },
   "outputs": [],
   "source": [
    "final_nominations['Movie']=movie_names"
   ]
  },
  {
   "cell_type": "code",
   "execution_count": 90,
   "metadata": {
    "collapsed": false
   },
   "outputs": [],
   "source": [
    "final_nominations['Character']=characters"
   ]
  },
  {
   "cell_type": "code",
   "execution_count": 91,
   "metadata": {
    "collapsed": false
   },
   "outputs": [
    {
     "data": {
      "text/html": [
       "<div>\n",
       "<table border=\"1\" class=\"dataframe\">\n",
       "  <thead>\n",
       "    <tr style=\"text-align: right;\">\n",
       "      <th></th>\n",
       "      <th>Year</th>\n",
       "      <th>Category</th>\n",
       "      <th>Nominee</th>\n",
       "      <th>Additional Info</th>\n",
       "      <th>Won</th>\n",
       "      <th>Movie</th>\n",
       "      <th>Character</th>\n",
       "    </tr>\n",
       "  </thead>\n",
       "  <tbody>\n",
       "    <tr>\n",
       "      <th>0</th>\n",
       "      <td>2010</td>\n",
       "      <td>Actor -- Leading Role</td>\n",
       "      <td>Javier Bardem</td>\n",
       "      <td>Biutiful {'Uxbal'}</td>\n",
       "      <td>0</td>\n",
       "      <td>Biutiful</td>\n",
       "      <td>Uxbal</td>\n",
       "    </tr>\n",
       "    <tr>\n",
       "      <th>1</th>\n",
       "      <td>2010</td>\n",
       "      <td>Actor -- Leading Role</td>\n",
       "      <td>Jeff Bridges</td>\n",
       "      <td>True Grit {'Rooster Cogburn'}</td>\n",
       "      <td>0</td>\n",
       "      <td>True Grit</td>\n",
       "      <td>Rooster Cogburn</td>\n",
       "    </tr>\n",
       "    <tr>\n",
       "      <th>2</th>\n",
       "      <td>2010</td>\n",
       "      <td>Actor -- Leading Role</td>\n",
       "      <td>Jesse Eisenberg</td>\n",
       "      <td>The Social Network {'Mark Zuckerberg'}</td>\n",
       "      <td>0</td>\n",
       "      <td>The Social Network</td>\n",
       "      <td>Mark Zuckerberg</td>\n",
       "    </tr>\n",
       "    <tr>\n",
       "      <th>3</th>\n",
       "      <td>2010</td>\n",
       "      <td>Actor -- Leading Role</td>\n",
       "      <td>Colin Firth</td>\n",
       "      <td>The King's Speech {'King George VI'}</td>\n",
       "      <td>1</td>\n",
       "      <td>The King's Speech</td>\n",
       "      <td>King George VI</td>\n",
       "    </tr>\n",
       "    <tr>\n",
       "      <th>4</th>\n",
       "      <td>2010</td>\n",
       "      <td>Actor -- Leading Role</td>\n",
       "      <td>James Franco</td>\n",
       "      <td>127 Hours {'Aron Ralston'}</td>\n",
       "      <td>0</td>\n",
       "      <td>127 Hours</td>\n",
       "      <td>Aron Ralston</td>\n",
       "    </tr>\n",
       "  </tbody>\n",
       "</table>\n",
       "</div>"
      ],
      "text/plain": [
       "   Year               Category          Nominee  \\\n",
       "0  2010  Actor -- Leading Role    Javier Bardem   \n",
       "1  2010  Actor -- Leading Role     Jeff Bridges   \n",
       "2  2010  Actor -- Leading Role  Jesse Eisenberg   \n",
       "3  2010  Actor -- Leading Role      Colin Firth   \n",
       "4  2010  Actor -- Leading Role     James Franco   \n",
       "\n",
       "                          Additional Info  Won               Movie  \\\n",
       "0                      Biutiful {'Uxbal'}    0            Biutiful   \n",
       "1           True Grit {'Rooster Cogburn'}    0           True Grit   \n",
       "2  The Social Network {'Mark Zuckerberg'}    0  The Social Network   \n",
       "3    The King's Speech {'King George VI'}    1   The King's Speech   \n",
       "4              127 Hours {'Aron Ralston'}    0           127 Hours   \n",
       "\n",
       "         Character  \n",
       "0            Uxbal  \n",
       "1  Rooster Cogburn  \n",
       "2  Mark Zuckerberg  \n",
       "3   King George VI  \n",
       "4     Aron Ralston  "
      ]
     },
     "execution_count": 91,
     "metadata": {},
     "output_type": "execute_result"
    }
   ],
   "source": [
    "final_nominations.head()"
   ]
  },
  {
   "cell_type": "code",
   "execution_count": 92,
   "metadata": {
    "collapsed": true
   },
   "outputs": [],
   "source": [
    "final_nominations=final_nominations.drop(['Additional Info'],axis=1)"
   ]
  },
  {
   "cell_type": "code",
   "execution_count": 93,
   "metadata": {
    "collapsed": false
   },
   "outputs": [
    {
     "data": {
      "text/html": [
       "<div>\n",
       "<table border=\"1\" class=\"dataframe\">\n",
       "  <thead>\n",
       "    <tr style=\"text-align: right;\">\n",
       "      <th></th>\n",
       "      <th>Year</th>\n",
       "      <th>Category</th>\n",
       "      <th>Nominee</th>\n",
       "      <th>Won</th>\n",
       "      <th>Movie</th>\n",
       "      <th>Character</th>\n",
       "    </tr>\n",
       "  </thead>\n",
       "  <tbody>\n",
       "    <tr>\n",
       "      <th>0</th>\n",
       "      <td>2010</td>\n",
       "      <td>Actor -- Leading Role</td>\n",
       "      <td>Javier Bardem</td>\n",
       "      <td>0</td>\n",
       "      <td>Biutiful</td>\n",
       "      <td>Uxbal</td>\n",
       "    </tr>\n",
       "    <tr>\n",
       "      <th>1</th>\n",
       "      <td>2010</td>\n",
       "      <td>Actor -- Leading Role</td>\n",
       "      <td>Jeff Bridges</td>\n",
       "      <td>0</td>\n",
       "      <td>True Grit</td>\n",
       "      <td>Rooster Cogburn</td>\n",
       "    </tr>\n",
       "    <tr>\n",
       "      <th>2</th>\n",
       "      <td>2010</td>\n",
       "      <td>Actor -- Leading Role</td>\n",
       "      <td>Jesse Eisenberg</td>\n",
       "      <td>0</td>\n",
       "      <td>The Social Network</td>\n",
       "      <td>Mark Zuckerberg</td>\n",
       "    </tr>\n",
       "    <tr>\n",
       "      <th>3</th>\n",
       "      <td>2010</td>\n",
       "      <td>Actor -- Leading Role</td>\n",
       "      <td>Colin Firth</td>\n",
       "      <td>1</td>\n",
       "      <td>The King's Speech</td>\n",
       "      <td>King George VI</td>\n",
       "    </tr>\n",
       "    <tr>\n",
       "      <th>4</th>\n",
       "      <td>2010</td>\n",
       "      <td>Actor -- Leading Role</td>\n",
       "      <td>James Franco</td>\n",
       "      <td>0</td>\n",
       "      <td>127 Hours</td>\n",
       "      <td>Aron Ralston</td>\n",
       "    </tr>\n",
       "  </tbody>\n",
       "</table>\n",
       "</div>"
      ],
      "text/plain": [
       "   Year               Category          Nominee  Won               Movie  \\\n",
       "0  2010  Actor -- Leading Role    Javier Bardem    0            Biutiful   \n",
       "1  2010  Actor -- Leading Role     Jeff Bridges    0           True Grit   \n",
       "2  2010  Actor -- Leading Role  Jesse Eisenberg    0  The Social Network   \n",
       "3  2010  Actor -- Leading Role      Colin Firth    1   The King's Speech   \n",
       "4  2010  Actor -- Leading Role     James Franco    0           127 Hours   \n",
       "\n",
       "         Character  \n",
       "0            Uxbal  \n",
       "1  Rooster Cogburn  \n",
       "2  Mark Zuckerberg  \n",
       "3   King George VI  \n",
       "4     Aron Ralston  "
      ]
     },
     "execution_count": 93,
     "metadata": {},
     "output_type": "execute_result"
    }
   ],
   "source": [
    "final_nominations.head()"
   ]
  },
  {
   "cell_type": "code",
   "execution_count": 95,
   "metadata": {
    "collapsed": false
   },
   "outputs": [],
   "source": [
    "import sqlite3 as sq\n",
    "conn=sq.connect(\"nominations.db\")\n",
    "\n",
    "final_nominations.to_sql(\"nominations\",conn,index=False)"
   ]
  },
  {
   "cell_type": "code",
   "execution_count": 102,
   "metadata": {
    "collapsed": false
   },
   "outputs": [
    {
     "name": "stdout",
     "output_type": "stream",
     "text": [
      "[(0, 'Year', 'INTEGER', 0, None, 0), (1, 'Category', 'TEXT', 0, None, 0), (2, 'Nominee', 'TEXT', 0, None, 0), (3, 'Won', 'INTEGER', 0, None, 0), (4, 'Movie', 'TEXT', 0, None, 0), (5, 'Character', 'TEXT', 0, None, 0)]\n",
      "[(2010, 'Actor -- Leading Role', 'Javier Bardem', 0, 'Biutiful', 'Uxbal'), (2010, 'Actor -- Leading Role', 'Jeff Bridges', 0, 'True Grit', 'Rooster Cogburn'), (2010, 'Actor -- Leading Role', 'Jesse Eisenberg', 0, 'The Social Network', 'Mark Zuckerberg'), (2010, 'Actor -- Leading Role', 'Colin Firth', 1, \"The King's Speech\", 'King George VI'), (2010, 'Actor -- Leading Role', 'James Franco', 0, '127 Hours', 'Aron Ralston'), (2010, 'Actor -- Supporting Role', 'Christian Bale', 1, 'The Fighter', 'Dicky Eklund'), (2010, 'Actor -- Supporting Role', 'John Hawkes', 0, \"Winter's Bone\", 'Teardrop'), (2010, 'Actor -- Supporting Role', 'Jeremy Renner', 0, 'The Town', 'James Coughlin'), (2010, 'Actor -- Supporting Role', 'Mark Ruffalo', 0, 'The Kids Are All Right', 'Paul'), (2010, 'Actor -- Supporting Role', 'Geoffrey Rush', 0, \"The King's Speech\", 'Lionel Logue')]\n"
     ]
    }
   ],
   "source": [
    "query1=\"pragma table_info(nominations)\"\n",
    "query2=\"select * from nominations limit 10;\"\n",
    "print(conn.execute(query1).fetchall())\n",
    "print(conn.execute(query2).fetchall())\n",
    "\n",
    "conn.close()\n"
   ]
  },
  {
   "cell_type": "markdown",
   "metadata": {},
   "source": [
    "For next steps, explore the rest of our original dataset academy_awards.csv and brainstorm how to fix the rest of the dataset:\n",
    "The awards categories in older ceremonies were different than the ones we have today. What relevant information should we keep from older ceremonies?\n",
    "What are all the different formatting styles that the Additional Info column contains. Can we use tools like regular expressions to capture these patterns and clean them up?\n",
    "The nominations for the Art Direction category have lengthy values for Additional Info. What information is useful and how do we extract it?\n",
    "Many values in Additional Info don't contain the character name the actor or actress played. Should we toss out character name altogether as we expand our data? What tradeoffs do we make by doing so?\n",
    "What's the best way to handle awards ceremonies that included movies from 2 years?\n",
    "E.g. see 1927/28 (1st) in the Year column."
   ]
  },
  {
   "cell_type": "code",
   "execution_count": null,
   "metadata": {
    "collapsed": true
   },
   "outputs": [],
   "source": []
  }
 ],
 "metadata": {
  "kernelspec": {
   "display_name": "Python 3",
   "language": "python",
   "name": "python3"
  },
  "language_info": {
   "codemirror_mode": {
    "name": "ipython",
    "version": 3
   },
   "file_extension": ".py",
   "mimetype": "text/x-python",
   "name": "python",
   "nbconvert_exporter": "python",
   "pygments_lexer": "ipython3",
   "version": "3.4.3"
  }
 },
 "nbformat": 4,
 "nbformat_minor": 0
}
